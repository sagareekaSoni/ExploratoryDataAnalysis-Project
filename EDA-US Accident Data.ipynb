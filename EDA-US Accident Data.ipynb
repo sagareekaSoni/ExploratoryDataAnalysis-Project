{
 "cells": [
  {
   "cell_type": "markdown",
   "metadata": {},
   "source": [
    "# Exploratory Data Analysis Project :US Accident Data"
   ]
  },
  {
   "cell_type": "markdown",
   "metadata": {},
   "source": [
    "This analysis is build by referring to EDA Project by Jovian Course"
   ]
  },
  {
   "cell_type": "markdown",
   "metadata": {},
   "source": [
    "#### Steps to follow\n",
    " 1. Select dataset from Kaggle\n",
    " 2. Performance data preparation & Cleaning using Panda\n",
    " 3. Performance exploratory analysis & visualization using Matplotlib & Seaborn\n",
    " 4. Ask & answer questions about the data \n",
    " 5. Summarise your interfaces & write a conclusion\n",
    " 6. Document , publish and present your Jupyter notebook online"
   ]
  },
  {
   "cell_type": "markdown",
   "metadata": {},
   "source": [
    "### Data  : USA Accidents Exploratory Data Analysis"
   ]
  },
  {
   "cell_type": "markdown",
   "metadata": {},
   "source": [
    "### Task 1 : Data Prepartion & Cleaning"
   ]
  },
  {
   "cell_type": "code",
   "execution_count": 1,
   "metadata": {},
   "outputs": [],
   "source": [
    "## Import Library \n",
    "import pandas as pd # pandas\n",
    "import numpy as np\n",
    "import matplotlib as mpl # matplot\n",
    "import matplotlib.pyplot as plt # matplot ploting layer\n",
    "import seaborn as sns # seaborn\n",
    "sns.set_style(\"darkgrid\") # graph plot\n",
    "from wordcloud import WordCloud as wdc"
   ]
  },
  {
   "cell_type": "code",
   "execution_count": 2,
   "metadata": {},
   "outputs": [],
   "source": [
    "# import data\n",
    "# data source : 'https://www.kaggle.com/sobhanmoosavi/us-accidents'\n",
    "\n",
    "data = pd.read_csv(\"../Learning/Kaggle_Data/US_Accidents_Dec20_Updated.csv\") "
   ]
  },
  {
   "cell_type": "code",
   "execution_count": 3,
   "metadata": {},
   "outputs": [],
   "source": [
    "#Method to download data from kaggle using cade\n",
    "# pip install opendatasets --upgrade --quiet\n",
    "# import opendatasets as od\n",
    "\n",
    "# download_url = 'https://www.kaggle.com/sobhanmoosavi/us-accidents'\n",
    "\n",
    "# od.download(download_url)\n",
    "\n",
    "# data = pd.read_csv(\"./us-accidents/US_Accidents_Dec20_Updated.csv\")"
   ]
  },
  {
   "cell_type": "code",
   "execution_count": 4,
   "metadata": {},
   "outputs": [
    {
     "data": {
      "text/html": [
       "<div>\n",
       "<style scoped>\n",
       "    .dataframe tbody tr th:only-of-type {\n",
       "        vertical-align: middle;\n",
       "    }\n",
       "\n",
       "    .dataframe tbody tr th {\n",
       "        vertical-align: top;\n",
       "    }\n",
       "\n",
       "    .dataframe thead th {\n",
       "        text-align: right;\n",
       "    }\n",
       "</style>\n",
       "<table border=\"1\" class=\"dataframe\">\n",
       "  <thead>\n",
       "    <tr style=\"text-align: right;\">\n",
       "      <th></th>\n",
       "      <th>ID</th>\n",
       "      <th>Severity</th>\n",
       "      <th>Start_Time</th>\n",
       "      <th>End_Time</th>\n",
       "      <th>Start_Lat</th>\n",
       "      <th>Start_Lng</th>\n",
       "      <th>End_Lat</th>\n",
       "      <th>End_Lng</th>\n",
       "      <th>Distance(mi)</th>\n",
       "      <th>Description</th>\n",
       "      <th>...</th>\n",
       "      <th>Roundabout</th>\n",
       "      <th>Station</th>\n",
       "      <th>Stop</th>\n",
       "      <th>Traffic_Calming</th>\n",
       "      <th>Traffic_Signal</th>\n",
       "      <th>Turning_Loop</th>\n",
       "      <th>Sunrise_Sunset</th>\n",
       "      <th>Civil_Twilight</th>\n",
       "      <th>Nautical_Twilight</th>\n",
       "      <th>Astronomical_Twilight</th>\n",
       "    </tr>\n",
       "  </thead>\n",
       "  <tbody>\n",
       "    <tr>\n",
       "      <th>0</th>\n",
       "      <td>A-1</td>\n",
       "      <td>2</td>\n",
       "      <td>2019-05-21 08:29:55</td>\n",
       "      <td>2019-05-21 09:29:40</td>\n",
       "      <td>34.808868</td>\n",
       "      <td>-82.269157</td>\n",
       "      <td>34.808868</td>\n",
       "      <td>-82.269157</td>\n",
       "      <td>0.0</td>\n",
       "      <td>Accident on Tanner Rd at Pennbrooke Ln.</td>\n",
       "      <td>...</td>\n",
       "      <td>False</td>\n",
       "      <td>False</td>\n",
       "      <td>False</td>\n",
       "      <td>False</td>\n",
       "      <td>False</td>\n",
       "      <td>False</td>\n",
       "      <td>Day</td>\n",
       "      <td>Day</td>\n",
       "      <td>Day</td>\n",
       "      <td>Day</td>\n",
       "    </tr>\n",
       "    <tr>\n",
       "      <th>1</th>\n",
       "      <td>A-2</td>\n",
       "      <td>2</td>\n",
       "      <td>2019-10-07 17:43:09</td>\n",
       "      <td>2019-10-07 19:42:50</td>\n",
       "      <td>35.090080</td>\n",
       "      <td>-80.745560</td>\n",
       "      <td>35.090080</td>\n",
       "      <td>-80.745560</td>\n",
       "      <td>0.0</td>\n",
       "      <td>Accident on Houston Branch Rd at Providence Br...</td>\n",
       "      <td>...</td>\n",
       "      <td>False</td>\n",
       "      <td>False</td>\n",
       "      <td>False</td>\n",
       "      <td>False</td>\n",
       "      <td>False</td>\n",
       "      <td>False</td>\n",
       "      <td>Day</td>\n",
       "      <td>Day</td>\n",
       "      <td>Day</td>\n",
       "      <td>Day</td>\n",
       "    </tr>\n",
       "    <tr>\n",
       "      <th>2</th>\n",
       "      <td>A-3</td>\n",
       "      <td>2</td>\n",
       "      <td>2020-12-13 21:53:00</td>\n",
       "      <td>2020-12-13 22:44:00</td>\n",
       "      <td>37.145730</td>\n",
       "      <td>-121.985052</td>\n",
       "      <td>37.165850</td>\n",
       "      <td>-121.988062</td>\n",
       "      <td>1.4</td>\n",
       "      <td>Stationary traffic on CA-17 from Summit Rd (CA...</td>\n",
       "      <td>...</td>\n",
       "      <td>False</td>\n",
       "      <td>False</td>\n",
       "      <td>False</td>\n",
       "      <td>False</td>\n",
       "      <td>False</td>\n",
       "      <td>False</td>\n",
       "      <td>Night</td>\n",
       "      <td>Night</td>\n",
       "      <td>Night</td>\n",
       "      <td>Night</td>\n",
       "    </tr>\n",
       "    <tr>\n",
       "      <th>3</th>\n",
       "      <td>A-4</td>\n",
       "      <td>2</td>\n",
       "      <td>2018-04-17 16:51:23</td>\n",
       "      <td>2018-04-17 17:50:46</td>\n",
       "      <td>39.110390</td>\n",
       "      <td>-119.773781</td>\n",
       "      <td>39.110390</td>\n",
       "      <td>-119.773781</td>\n",
       "      <td>0.0</td>\n",
       "      <td>Accident on US-395 Southbound at Topsy Ln.</td>\n",
       "      <td>...</td>\n",
       "      <td>False</td>\n",
       "      <td>False</td>\n",
       "      <td>False</td>\n",
       "      <td>False</td>\n",
       "      <td>True</td>\n",
       "      <td>False</td>\n",
       "      <td>Day</td>\n",
       "      <td>Day</td>\n",
       "      <td>Day</td>\n",
       "      <td>Day</td>\n",
       "    </tr>\n",
       "    <tr>\n",
       "      <th>4</th>\n",
       "      <td>A-5</td>\n",
       "      <td>3</td>\n",
       "      <td>2016-08-31 17:40:49</td>\n",
       "      <td>2016-08-31 18:10:49</td>\n",
       "      <td>26.102942</td>\n",
       "      <td>-80.265091</td>\n",
       "      <td>26.102942</td>\n",
       "      <td>-80.265091</td>\n",
       "      <td>0.0</td>\n",
       "      <td>Accident on I-595 Westbound at Exit 4 / Pine I...</td>\n",
       "      <td>...</td>\n",
       "      <td>False</td>\n",
       "      <td>False</td>\n",
       "      <td>False</td>\n",
       "      <td>False</td>\n",
       "      <td>True</td>\n",
       "      <td>False</td>\n",
       "      <td>Day</td>\n",
       "      <td>Day</td>\n",
       "      <td>Day</td>\n",
       "      <td>Day</td>\n",
       "    </tr>\n",
       "  </tbody>\n",
       "</table>\n",
       "<p>5 rows × 47 columns</p>\n",
       "</div>"
      ],
      "text/plain": [
       "    ID  Severity           Start_Time             End_Time  Start_Lat  \\\n",
       "0  A-1         2  2019-05-21 08:29:55  2019-05-21 09:29:40  34.808868   \n",
       "1  A-2         2  2019-10-07 17:43:09  2019-10-07 19:42:50  35.090080   \n",
       "2  A-3         2  2020-12-13 21:53:00  2020-12-13 22:44:00  37.145730   \n",
       "3  A-4         2  2018-04-17 16:51:23  2018-04-17 17:50:46  39.110390   \n",
       "4  A-5         3  2016-08-31 17:40:49  2016-08-31 18:10:49  26.102942   \n",
       "\n",
       "    Start_Lng    End_Lat     End_Lng  Distance(mi)  \\\n",
       "0  -82.269157  34.808868  -82.269157           0.0   \n",
       "1  -80.745560  35.090080  -80.745560           0.0   \n",
       "2 -121.985052  37.165850 -121.988062           1.4   \n",
       "3 -119.773781  39.110390 -119.773781           0.0   \n",
       "4  -80.265091  26.102942  -80.265091           0.0   \n",
       "\n",
       "                                         Description  ...  Roundabout Station  \\\n",
       "0            Accident on Tanner Rd at Pennbrooke Ln.  ...       False   False   \n",
       "1  Accident on Houston Branch Rd at Providence Br...  ...       False   False   \n",
       "2  Stationary traffic on CA-17 from Summit Rd (CA...  ...       False   False   \n",
       "3         Accident on US-395 Southbound at Topsy Ln.  ...       False   False   \n",
       "4  Accident on I-595 Westbound at Exit 4 / Pine I...  ...       False   False   \n",
       "\n",
       "    Stop Traffic_Calming Traffic_Signal Turning_Loop Sunrise_Sunset  \\\n",
       "0  False           False          False        False            Day   \n",
       "1  False           False          False        False            Day   \n",
       "2  False           False          False        False          Night   \n",
       "3  False           False           True        False            Day   \n",
       "4  False           False           True        False            Day   \n",
       "\n",
       "  Civil_Twilight Nautical_Twilight Astronomical_Twilight  \n",
       "0            Day               Day                   Day  \n",
       "1            Day               Day                   Day  \n",
       "2          Night             Night                 Night  \n",
       "3            Day               Day                   Day  \n",
       "4            Day               Day                   Day  \n",
       "\n",
       "[5 rows x 47 columns]"
      ]
     },
     "execution_count": 4,
     "metadata": {},
     "output_type": "execute_result"
    }
   ],
   "source": [
    "#data view top 5 rows\n",
    "data.head()"
   ]
  },
  {
   "cell_type": "code",
   "execution_count": 5,
   "metadata": {},
   "outputs": [
    {
     "data": {
      "text/plain": [
       "Index(['ID', 'Severity', 'Start_Time', 'End_Time', 'Start_Lat', 'Start_Lng',\n",
       "       'End_Lat', 'End_Lng', 'Distance(mi)', 'Description', 'Number', 'Street',\n",
       "       'Side', 'City', 'County', 'State', 'Zipcode', 'Country', 'Timezone',\n",
       "       'Airport_Code', 'Weather_Timestamp', 'Temperature(F)', 'Wind_Chill(F)',\n",
       "       'Humidity(%)', 'Pressure(in)', 'Visibility(mi)', 'Wind_Direction',\n",
       "       'Wind_Speed(mph)', 'Precipitation(in)', 'Weather_Condition', 'Amenity',\n",
       "       'Bump', 'Crossing', 'Give_Way', 'Junction', 'No_Exit', 'Railway',\n",
       "       'Roundabout', 'Station', 'Stop', 'Traffic_Calming', 'Traffic_Signal',\n",
       "       'Turning_Loop', 'Sunrise_Sunset', 'Civil_Twilight', 'Nautical_Twilight',\n",
       "       'Astronomical_Twilight'],\n",
       "      dtype='object')"
      ]
     },
     "execution_count": 5,
     "metadata": {},
     "output_type": "execute_result"
    }
   ],
   "source": [
    "#column names\n",
    "data.columns"
   ]
  },
  {
   "cell_type": "markdown",
   "metadata": {},
   "source": [
    "### Data Column Explanation\n",
    "\n",
    "* ID: This is a unique identifier of the accident record.\n",
    "* Source: Indicates source of the accident report (i.e. the API which reported the accident.).\n",
    "* TMC: A traffic accident may have a Traffic Message Channel (TMC) code which provides more detailed description of the event.\n",
    "* Severity: Shows the severity of the accident, a number between 1 and 4, where 1 indicates the least impact on traffic (i.e., short delay as a result of the accident) and 4 indicates a significant impact on traffic (i.e., long delay).\n",
    "* Start_Time: Shows start time of the accident in local time zone.\n",
    "* End_Time: Shows end time of the accident in local time zone.\n",
    "* Start_Lat: Shows latitude in GPS coordinate of the start point.\n",
    "* Start_Lng: Shows longitude in GPS coordinate of the start point.\n",
    "* End_Lat: Shows latitude in GPS coordinate of the end point.\n",
    "* End_Lng: Shows longitude in GPS coordinate of the end point.\n",
    "* Distance(mi): The length of the road extent affected by the accident.\n",
    "* Description: Shows natural language description of the accident.\n",
    "\n",
    "\n",
    "* Number: Shows the street number in address field.\n",
    "* Street: Shows the street name in address field.\n",
    "* Side: Shows the relative side of the street (Right/Left) in address field.\n",
    "* City: Shows the city in address field.\n",
    "* County: Shows the county in address field.\n",
    "* State: Shows the state in address field.\n",
    "* Zipcode: Shows the zipcode in address field.\n",
    "* Country: Shows the country in address field.\n",
    "* Timezone: Shows timezone based on the location of the accident (eastern, central, etc.).\n",
    "\n",
    "\n",
    "* Airport_Code: Denotes an airport-based weather station which is the closest one to location of the accident.\n",
    "* Weather_Timestamp: Shows the time-stamp of weather observation record (in local time).\n",
    "* Temperature(F): Shows the temperature (in Fahrenheit).\n",
    "* Wind_Chill(F): Shows the wind chill (in Fahrenheit).=\n",
    "* Humidity(%): Shows the humidity (in percentage).\n",
    "* Pressure(in): Shows the air pressure (in inches).\n",
    "* Visibility(mi): Shows visibility (in miles).\n",
    "* Wind_Direction: Shows wind direction.\n",
    "* Wind_Speed(mph): Shows wind speed (in miles per hour).\n",
    "* Precipitation(in): Shows precipitation amount in inches, if there is any.\n",
    "* Weather_Condition: Shows the weather condition (rain, snow, thunderstorm, fog, etc.).\n",
    "\n",
    "\n",
    "* Amenity: A Point-Of-Interest (POI) annotation which indicates presence of amenity in a nearby location.\n",
    "* Bump: A POI annotation which indicates presence of speed bump or hump in a nearby location.\n",
    "* Crossing: A POI annotation which indicates presence of crossing in a nearby location.\n",
    "* Give_Way: A POI annotation which indicates presence of give_way sign in a nearby location.\n",
    "* Junction: A POI annotation which indicates presence of junction in a nearby location.\n",
    "* No_Exit: A POI annotation which indicates presence of no_exit sign in a nearby location.\n",
    "* Railway: A POI annotation which indicates presence of railway in a nearby location.\n",
    "* Roundabout: A POI annotation which indicates presence of roundabout in a nearby location.\n",
    "* Station: A POI annotation which indicates presence of station (bus, train, etc.) in a* nearby location.\n",
    "* Stop: A POI annotation which indicates presence of stop sign in a nearby location.\n",
    "* Traffic_Calming: A POI annotation which indicates presence of traffic_calming means in a nearby location.\n",
    "* Traffic_Signal: A POI annotation which indicates presence of traffic_signal in a nearby location.\n",
    "* Turning_Loop: A POI annotation which indicates presence of turning_loop in a nearby location.\n",
    "\n",
    "\n",
    "* Sunrise_Sunset: Shows the period of day (i.e. day or night) based on sunrise/sunset.\n",
    "* Civil_Twilight: Shows the period of day (i.e. day or night) based on civil twilight.\n",
    "* Nautical_Twilight: Shows the period of day (i.e. day or night) based on nautical twilight.\n",
    "* Astronomical_Twilight: Shows the period of day (i.e. day or night) based on astronomical twilight.\n"
   ]
  },
  {
   "cell_type": "code",
   "execution_count": 6,
   "metadata": {},
   "outputs": [
    {
     "data": {
      "text/plain": [
       "47"
      ]
     },
     "execution_count": 6,
     "metadata": {},
     "output_type": "execute_result"
    }
   ],
   "source": [
    "#info about data column length\n",
    "len(data.columns)"
   ]
  },
  {
   "cell_type": "code",
   "execution_count": 7,
   "metadata": {},
   "outputs": [
    {
     "name": "stdout",
     "output_type": "stream",
     "text": [
      "<class 'pandas.core.frame.DataFrame'>\n",
      "RangeIndex: 2906610 entries, 0 to 2906609\n",
      "Data columns (total 47 columns):\n",
      " #   Column                 Dtype  \n",
      "---  ------                 -----  \n",
      " 0   ID                     object \n",
      " 1   Severity               int64  \n",
      " 2   Start_Time             object \n",
      " 3   End_Time               object \n",
      " 4   Start_Lat              float64\n",
      " 5   Start_Lng              float64\n",
      " 6   End_Lat                float64\n",
      " 7   End_Lng                float64\n",
      " 8   Distance(mi)           float64\n",
      " 9   Description            object \n",
      " 10  Number                 float64\n",
      " 11  Street                 object \n",
      " 12  Side                   object \n",
      " 13  City                   object \n",
      " 14  County                 object \n",
      " 15  State                  object \n",
      " 16  Zipcode                object \n",
      " 17  Country                object \n",
      " 18  Timezone               object \n",
      " 19  Airport_Code           object \n",
      " 20  Weather_Timestamp      object \n",
      " 21  Temperature(F)         float64\n",
      " 22  Wind_Chill(F)          float64\n",
      " 23  Humidity(%)            float64\n",
      " 24  Pressure(in)           float64\n",
      " 25  Visibility(mi)         float64\n",
      " 26  Wind_Direction         object \n",
      " 27  Wind_Speed(mph)        float64\n",
      " 28  Precipitation(in)      float64\n",
      " 29  Weather_Condition      object \n",
      " 30  Amenity                bool   \n",
      " 31  Bump                   bool   \n",
      " 32  Crossing               bool   \n",
      " 33  Give_Way               bool   \n",
      " 34  Junction               bool   \n",
      " 35  No_Exit                bool   \n",
      " 36  Railway                bool   \n",
      " 37  Roundabout             bool   \n",
      " 38  Station                bool   \n",
      " 39  Stop                   bool   \n",
      " 40  Traffic_Calming        bool   \n",
      " 41  Traffic_Signal         bool   \n",
      " 42  Turning_Loop           bool   \n",
      " 43  Sunrise_Sunset         object \n",
      " 44  Civil_Twilight         object \n",
      " 45  Nautical_Twilight      object \n",
      " 46  Astronomical_Twilight  object \n",
      "dtypes: bool(13), float64(13), int64(1), object(20)\n",
      "memory usage: 790.0+ MB\n"
     ]
    }
   ],
   "source": [
    "# data info\n",
    "data.info()"
   ]
  },
  {
   "cell_type": "code",
   "execution_count": 8,
   "metadata": {},
   "outputs": [
    {
     "data": {
      "text/html": [
       "<div>\n",
       "<style scoped>\n",
       "    .dataframe tbody tr th:only-of-type {\n",
       "        vertical-align: middle;\n",
       "    }\n",
       "\n",
       "    .dataframe tbody tr th {\n",
       "        vertical-align: top;\n",
       "    }\n",
       "\n",
       "    .dataframe thead th {\n",
       "        text-align: right;\n",
       "    }\n",
       "</style>\n",
       "<table border=\"1\" class=\"dataframe\">\n",
       "  <thead>\n",
       "    <tr style=\"text-align: right;\">\n",
       "      <th></th>\n",
       "      <th>Severity</th>\n",
       "      <th>Start_Lat</th>\n",
       "      <th>Start_Lng</th>\n",
       "      <th>End_Lat</th>\n",
       "      <th>End_Lng</th>\n",
       "      <th>Distance(mi)</th>\n",
       "      <th>Number</th>\n",
       "      <th>Temperature(F)</th>\n",
       "      <th>Wind_Chill(F)</th>\n",
       "      <th>Humidity(%)</th>\n",
       "      <th>Pressure(in)</th>\n",
       "      <th>Visibility(mi)</th>\n",
       "      <th>Wind_Speed(mph)</th>\n",
       "      <th>Precipitation(in)</th>\n",
       "    </tr>\n",
       "  </thead>\n",
       "  <tbody>\n",
       "    <tr>\n",
       "      <th>count</th>\n",
       "      <td>2.906610e+06</td>\n",
       "      <td>2.906610e+06</td>\n",
       "      <td>2.906610e+06</td>\n",
       "      <td>2.623789e+06</td>\n",
       "      <td>2.623789e+06</td>\n",
       "      <td>2.906610e+06</td>\n",
       "      <td>1.014938e+06</td>\n",
       "      <td>2.839386e+06</td>\n",
       "      <td>1.722751e+06</td>\n",
       "      <td>2.835340e+06</td>\n",
       "      <td>2.849702e+06</td>\n",
       "      <td>2.834532e+06</td>\n",
       "      <td>2.599447e+06</td>\n",
       "      <td>1.605284e+06</td>\n",
       "    </tr>\n",
       "    <tr>\n",
       "      <th>mean</th>\n",
       "      <td>2.288649e+00</td>\n",
       "      <td>3.653027e+01</td>\n",
       "      <td>-9.642676e+01</td>\n",
       "      <td>3.651733e+01</td>\n",
       "      <td>-9.620367e+01</td>\n",
       "      <td>3.980541e-01</td>\n",
       "      <td>6.789728e+03</td>\n",
       "      <td>6.098873e+01</td>\n",
       "      <td>5.499048e+01</td>\n",
       "      <td>6.537758e+01</td>\n",
       "      <td>2.965685e+01</td>\n",
       "      <td>9.116766e+00</td>\n",
       "      <td>7.818111e+00</td>\n",
       "      <td>1.119459e-02</td>\n",
       "    </tr>\n",
       "    <tr>\n",
       "      <th>std</th>\n",
       "      <td>5.541618e-01</td>\n",
       "      <td>5.013964e+00</td>\n",
       "      <td>1.775412e+01</td>\n",
       "      <td>5.016609e+00</td>\n",
       "      <td>1.765971e+01</td>\n",
       "      <td>1.592556e+00</td>\n",
       "      <td>1.697225e+04</td>\n",
       "      <td>1.845258e+01</td>\n",
       "      <td>2.219542e+01</td>\n",
       "      <td>2.287854e+01</td>\n",
       "      <td>9.094133e-01</td>\n",
       "      <td>2.837271e+00</td>\n",
       "      <td>5.431171e+00</td>\n",
       "      <td>1.540812e-01</td>\n",
       "    </tr>\n",
       "    <tr>\n",
       "      <th>min</th>\n",
       "      <td>1.000000e+00</td>\n",
       "      <td>2.455527e+01</td>\n",
       "      <td>-1.246238e+02</td>\n",
       "      <td>2.455527e+01</td>\n",
       "      <td>-1.246238e+02</td>\n",
       "      <td>0.000000e+00</td>\n",
       "      <td>0.000000e+00</td>\n",
       "      <td>-8.900000e+01</td>\n",
       "      <td>-8.900000e+01</td>\n",
       "      <td>1.000000e+00</td>\n",
       "      <td>0.000000e+00</td>\n",
       "      <td>0.000000e+00</td>\n",
       "      <td>0.000000e+00</td>\n",
       "      <td>0.000000e+00</td>\n",
       "    </tr>\n",
       "    <tr>\n",
       "      <th>25%</th>\n",
       "      <td>2.000000e+00</td>\n",
       "      <td>3.366453e+01</td>\n",
       "      <td>-1.178232e+02</td>\n",
       "      <td>3.364659e+01</td>\n",
       "      <td>-1.177020e+02</td>\n",
       "      <td>0.000000e+00</td>\n",
       "      <td>9.650000e+02</td>\n",
       "      <td>4.890000e+01</td>\n",
       "      <td>3.900000e+01</td>\n",
       "      <td>4.900000e+01</td>\n",
       "      <td>2.959000e+01</td>\n",
       "      <td>1.000000e+01</td>\n",
       "      <td>4.600000e+00</td>\n",
       "      <td>0.000000e+00</td>\n",
       "    </tr>\n",
       "    <tr>\n",
       "      <th>50%</th>\n",
       "      <td>2.000000e+00</td>\n",
       "      <td>3.609977e+01</td>\n",
       "      <td>-9.116690e+01</td>\n",
       "      <td>3.605898e+01</td>\n",
       "      <td>-9.105163e+01</td>\n",
       "      <td>0.000000e+00</td>\n",
       "      <td>3.093000e+03</td>\n",
       "      <td>6.300000e+01</td>\n",
       "      <td>5.800000e+01</td>\n",
       "      <td>6.800000e+01</td>\n",
       "      <td>2.992000e+01</td>\n",
       "      <td>1.000000e+01</td>\n",
       "      <td>7.000000e+00</td>\n",
       "      <td>0.000000e+00</td>\n",
       "    </tr>\n",
       "    <tr>\n",
       "      <th>75%</th>\n",
       "      <td>3.000000e+00</td>\n",
       "      <td>4.037505e+01</td>\n",
       "      <td>-8.085814e+01</td>\n",
       "      <td>4.033133e+01</td>\n",
       "      <td>-8.084679e+01</td>\n",
       "      <td>2.790000e-01</td>\n",
       "      <td>7.976000e+03</td>\n",
       "      <td>7.500000e+01</td>\n",
       "      <td>7.200000e+01</td>\n",
       "      <td>8.500000e+01</td>\n",
       "      <td>3.007000e+01</td>\n",
       "      <td>1.000000e+01</td>\n",
       "      <td>1.040000e+01</td>\n",
       "      <td>0.000000e+00</td>\n",
       "    </tr>\n",
       "    <tr>\n",
       "      <th>max</th>\n",
       "      <td>4.000000e+00</td>\n",
       "      <td>4.900220e+01</td>\n",
       "      <td>-6.711317e+01</td>\n",
       "      <td>4.907500e+01</td>\n",
       "      <td>-6.710924e+01</td>\n",
       "      <td>3.336300e+02</td>\n",
       "      <td>9.999997e+06</td>\n",
       "      <td>2.030000e+02</td>\n",
       "      <td>1.740000e+02</td>\n",
       "      <td>1.000000e+02</td>\n",
       "      <td>5.804000e+01</td>\n",
       "      <td>1.400000e+02</td>\n",
       "      <td>9.840000e+02</td>\n",
       "      <td>2.400000e+01</td>\n",
       "    </tr>\n",
       "  </tbody>\n",
       "</table>\n",
       "</div>"
      ],
      "text/plain": [
       "           Severity     Start_Lat     Start_Lng       End_Lat       End_Lng  \\\n",
       "count  2.906610e+06  2.906610e+06  2.906610e+06  2.623789e+06  2.623789e+06   \n",
       "mean   2.288649e+00  3.653027e+01 -9.642676e+01  3.651733e+01 -9.620367e+01   \n",
       "std    5.541618e-01  5.013964e+00  1.775412e+01  5.016609e+00  1.765971e+01   \n",
       "min    1.000000e+00  2.455527e+01 -1.246238e+02  2.455527e+01 -1.246238e+02   \n",
       "25%    2.000000e+00  3.366453e+01 -1.178232e+02  3.364659e+01 -1.177020e+02   \n",
       "50%    2.000000e+00  3.609977e+01 -9.116690e+01  3.605898e+01 -9.105163e+01   \n",
       "75%    3.000000e+00  4.037505e+01 -8.085814e+01  4.033133e+01 -8.084679e+01   \n",
       "max    4.000000e+00  4.900220e+01 -6.711317e+01  4.907500e+01 -6.710924e+01   \n",
       "\n",
       "       Distance(mi)        Number  Temperature(F)  Wind_Chill(F)  \\\n",
       "count  2.906610e+06  1.014938e+06    2.839386e+06   1.722751e+06   \n",
       "mean   3.980541e-01  6.789728e+03    6.098873e+01   5.499048e+01   \n",
       "std    1.592556e+00  1.697225e+04    1.845258e+01   2.219542e+01   \n",
       "min    0.000000e+00  0.000000e+00   -8.900000e+01  -8.900000e+01   \n",
       "25%    0.000000e+00  9.650000e+02    4.890000e+01   3.900000e+01   \n",
       "50%    0.000000e+00  3.093000e+03    6.300000e+01   5.800000e+01   \n",
       "75%    2.790000e-01  7.976000e+03    7.500000e+01   7.200000e+01   \n",
       "max    3.336300e+02  9.999997e+06    2.030000e+02   1.740000e+02   \n",
       "\n",
       "        Humidity(%)  Pressure(in)  Visibility(mi)  Wind_Speed(mph)  \\\n",
       "count  2.835340e+06  2.849702e+06    2.834532e+06     2.599447e+06   \n",
       "mean   6.537758e+01  2.965685e+01    9.116766e+00     7.818111e+00   \n",
       "std    2.287854e+01  9.094133e-01    2.837271e+00     5.431171e+00   \n",
       "min    1.000000e+00  0.000000e+00    0.000000e+00     0.000000e+00   \n",
       "25%    4.900000e+01  2.959000e+01    1.000000e+01     4.600000e+00   \n",
       "50%    6.800000e+01  2.992000e+01    1.000000e+01     7.000000e+00   \n",
       "75%    8.500000e+01  3.007000e+01    1.000000e+01     1.040000e+01   \n",
       "max    1.000000e+02  5.804000e+01    1.400000e+02     9.840000e+02   \n",
       "\n",
       "       Precipitation(in)  \n",
       "count       1.605284e+06  \n",
       "mean        1.119459e-02  \n",
       "std         1.540812e-01  \n",
       "min         0.000000e+00  \n",
       "25%         0.000000e+00  \n",
       "50%         0.000000e+00  \n",
       "75%         0.000000e+00  \n",
       "max         2.400000e+01  "
      ]
     },
     "execution_count": 8,
     "metadata": {},
     "output_type": "execute_result"
    }
   ],
   "source": [
    "# summary statics for numberic value\n",
    "data.describe()"
   ]
  },
  {
   "cell_type": "code",
   "execution_count": 9,
   "metadata": {},
   "outputs": [
    {
     "data": {
      "text/plain": [
       "14"
      ]
     },
     "execution_count": 9,
     "metadata": {},
     "output_type": "execute_result"
    }
   ],
   "source": [
    "# no of numeric column\n",
    "numerics = ['int16', 'int32', 'int64', 'float16', 'float32', 'float64']\n",
    "\n",
    "numeric_df = data.select_dtypes(include=numerics)\n",
    "len(numeric_df.columns)"
   ]
  },
  {
   "cell_type": "code",
   "execution_count": 10,
   "metadata": {},
   "outputs": [
    {
     "data": {
      "text/plain": [
       "Number                   1891672\n",
       "Precipitation(in)        1301326\n",
       "Wind_Chill(F)            1183859\n",
       "Wind_Speed(mph)           307163\n",
       "End_Lat                   282821\n",
       "End_Lng                   282821\n",
       "Visibility(mi)             72078\n",
       "Weather_Condition          71851\n",
       "Humidity(%)                71270\n",
       "Temperature(F)             67224\n",
       "Wind_Direction             63474\n",
       "Pressure(in)               56908\n",
       "Weather_Timestamp          46917\n",
       "Airport_Code                6608\n",
       "Timezone                    3430\n",
       "Zipcode                     1114\n",
       "Nautical_Twilight            110\n",
       "Astronomical_Twilight        110\n",
       "Civil_Twilight               110\n",
       "Sunrise_Sunset               110\n",
       "City                         108\n",
       "Amenity                        0\n",
       "Severity                       0\n",
       "Start_Time                     0\n",
       "End_Time                       0\n",
       "Start_Lat                      0\n",
       "Start_Lng                      0\n",
       "Distance(mi)                   0\n",
       "Description                    0\n",
       "Turning_Loop                   0\n",
       "Street                         0\n",
       "Side                           0\n",
       "County                         0\n",
       "Bump                           0\n",
       "State                          0\n",
       "Traffic_Signal                 0\n",
       "Country                        0\n",
       "Traffic_Calming                0\n",
       "Stop                           0\n",
       "Station                        0\n",
       "Roundabout                     0\n",
       "Railway                        0\n",
       "No_Exit                        0\n",
       "Junction                       0\n",
       "Give_Way                       0\n",
       "Crossing                       0\n",
       "ID                             0\n",
       "dtype: int64"
      ]
     },
     "execution_count": 10,
     "metadata": {},
     "output_type": "execute_result"
    }
   ],
   "source": [
    "# COUNT missing value per column\n",
    "data.isna().sum().sort_values(ascending=False)"
   ]
  },
  {
   "cell_type": "code",
   "execution_count": 11,
   "metadata": {},
   "outputs": [
    {
     "data": {
      "text/plain": [
       "Number                   0.650817\n",
       "Precipitation(in)        0.447713\n",
       "Wind_Chill(F)            0.407299\n",
       "Wind_Speed(mph)          0.105677\n",
       "End_Lat                  0.097303\n",
       "End_Lng                  0.097303\n",
       "Visibility(mi)           0.024798\n",
       "Weather_Condition        0.024720\n",
       "Humidity(%)              0.024520\n",
       "Temperature(F)           0.023128\n",
       "Wind_Direction           0.021838\n",
       "Pressure(in)             0.019579\n",
       "Weather_Timestamp        0.016141\n",
       "Airport_Code             0.002273\n",
       "Timezone                 0.001180\n",
       "Zipcode                  0.000383\n",
       "Nautical_Twilight        0.000038\n",
       "Astronomical_Twilight    0.000038\n",
       "Civil_Twilight           0.000038\n",
       "Sunrise_Sunset           0.000038\n",
       "City                     0.000037\n",
       "Amenity                  0.000000\n",
       "Severity                 0.000000\n",
       "Start_Time               0.000000\n",
       "End_Time                 0.000000\n",
       "Start_Lat                0.000000\n",
       "Start_Lng                0.000000\n",
       "Distance(mi)             0.000000\n",
       "Description              0.000000\n",
       "Turning_Loop             0.000000\n",
       "Street                   0.000000\n",
       "Side                     0.000000\n",
       "County                   0.000000\n",
       "Bump                     0.000000\n",
       "State                    0.000000\n",
       "Traffic_Signal           0.000000\n",
       "Country                  0.000000\n",
       "Traffic_Calming          0.000000\n",
       "Stop                     0.000000\n",
       "Station                  0.000000\n",
       "Roundabout               0.000000\n",
       "Railway                  0.000000\n",
       "No_Exit                  0.000000\n",
       "Junction                 0.000000\n",
       "Give_Way                 0.000000\n",
       "Crossing                 0.000000\n",
       "ID                       0.000000\n",
       "dtype: float64"
      ]
     },
     "execution_count": 11,
     "metadata": {},
     "output_type": "execute_result"
    }
   ],
   "source": [
    "# Percentage of missing values\n",
    "\n",
    "missing_per=data.isna().sum().sort_values(ascending=False)\n",
    "missing_per/len(data)"
   ]
  },
  {
   "cell_type": "code",
   "execution_count": 12,
   "metadata": {},
   "outputs": [
    {
     "data": {
      "text/plain": [
       "<matplotlib.axes._subplots.AxesSubplot at 0x1fa0a3404c0>"
      ]
     },
     "execution_count": 12,
     "metadata": {},
     "output_type": "execute_result"
    },
    {
     "data": {
      "image/png": "[encoded data removed]",
      "text/plain": [
       "<Figure size 432x288 with 1 Axes>"
      ]
     },
     "metadata": {},
     "output_type": "display_data"
    }
   ],
   "source": [
    "# Bar chart missing column removed (where missing is zero)\n",
    "missing_per[missing_per != 0].plot(kind=\"barh\")\n"
   ]
  },
  {
   "cell_type": "code",
   "execution_count": 13,
   "metadata": {},
   "outputs": [],
   "source": [
    "#drop column with more than 50% data missing\n",
    "data.drop(columns=['Number'],inplace=True)"
   ]
  },
  {
   "cell_type": "markdown",
   "metadata": {},
   "source": [
    "#### Task 2 :  Exploratory analysis & visulization "
   ]
  },
  {
   "cell_type": "markdown",
   "metadata": {},
   "source": [
    "Variable of interest\n",
    "* Severity \n",
    "* Start Time\n",
    "* Start Lat & Start Lng\n",
    "* Distance(mi)\n",
    "* Description\n",
    "* City /Country /State\n",
    "* Zipcode\n",
    "* Temperature\n",
    "* Pressure\n",
    "13. Visibility\n",
    "14. Windspeed\n",
    "15. Bump\n",
    "16. Crossing\n",
    "17. Give_way\n",
    "18. Traffic_Signal\n",
    "19. Weather condition"
   ]
  },
  {
   "cell_type": "markdown",
   "metadata": {},
   "source": [
    "### Univariate Analysis"
   ]
  },
  {
   "cell_type": "markdown",
   "metadata": {},
   "source": [
    "#### 1. Severity"
   ]
  },
  {
   "cell_type": "code",
   "execution_count": 14,
   "metadata": {},
   "outputs": [
    {
     "data": {
      "text/plain": [
       "2    2129263\n",
       "3     629452\n",
       "4     119144\n",
       "1      28751\n",
       "Name: Severity, dtype: int64"
      ]
     },
     "execution_count": 14,
     "metadata": {},
     "output_type": "execute_result"
    }
   ],
   "source": [
    "# Severity Value Counts \n",
    "data.Severity.value_counts()"
   ]
  },
  {
   "cell_type": "code",
   "execution_count": 15,
   "metadata": {},
   "outputs": [
    {
     "data": {
      "text/plain": [
       "2    73.255889\n",
       "3    21.655881\n",
       "4     4.099071\n",
       "1     0.989159\n",
       "Name: Severity, dtype: float64"
      ]
     },
     "execution_count": 15,
     "metadata": {},
     "output_type": "execute_result"
    }
   ],
   "source": [
    "# Severity percentage\n",
    "data.Severity.value_counts()/len(data)*100"
   ]
  },
  {
   "cell_type": "code",
   "execution_count": 16,
   "metadata": {},
   "outputs": [
    {
     "data": {
      "text/plain": [
       "<matplotlib.axes._subplots.AxesSubplot at 0x1fa0ced7070>"
      ]
     },
     "execution_count": 16,
     "metadata": {},
     "output_type": "execute_result"
    },
    {
     "data": {
      "image/png": "[encoded data removed]",
      "text/plain": [
       "<Figure size 432x288 with 1 Axes>"
      ]
     },
     "metadata": {},
     "output_type": "display_data"
    }
   ],
   "source": [
    "# Severity barplot\n",
    "sns.countplot(data.Severity)"
   ]
  },
  {
   "cell_type": "markdown",
   "metadata": {},
   "source": [
    "we observer high percentage of accident with Severity 2 which account for 73% "
   ]
  },
  {
   "cell_type": "markdown",
   "metadata": {},
   "source": [
    "#### 2. Start Time "
   ]
  },
  {
   "cell_type": "code",
   "execution_count": 17,
   "metadata": {},
   "outputs": [
    {
     "data": {
      "text/plain": [
       "pandas.core.series.Series"
      ]
     },
     "execution_count": 17,
     "metadata": {},
     "output_type": "execute_result"
    }
   ],
   "source": [
    "# Start Time Format\n",
    "type(data.Start_Time)"
   ]
  },
  {
   "cell_type": "code",
   "execution_count": 18,
   "metadata": {},
   "outputs": [],
   "source": [
    "# Parse Start Date\n",
    "data.Start_Time = pd.to_datetime(data.Start_Time)"
   ]
  },
  {
   "cell_type": "code",
   "execution_count": 19,
   "metadata": {},
   "outputs": [
    {
     "data": {
      "text/plain": [
       "US/Eastern     1216626\n",
       "US/Pacific      888512\n",
       "US/Central      631219\n",
       "US/Mountain     166823\n",
       "Name: Timezone, dtype: int64"
      ]
     },
     "execution_count": 19,
     "metadata": {},
     "output_type": "execute_result"
    }
   ],
   "source": [
    "# TimeZone format\n",
    "data.Timezone.value_counts()"
   ]
  },
  {
   "cell_type": "code",
   "execution_count": 20,
   "metadata": {},
   "outputs": [
    {
     "data": {
      "text/plain": [
       "8     7.573462\n",
       "7     7.400924\n",
       "17    7.110276\n",
       "16    6.958966\n",
       "15    6.101059\n",
       "18    5.706097\n",
       "14    5.329576\n",
       "13    5.027369\n",
       "6     5.020385\n",
       "9     4.913009\n",
       "12    4.542164\n",
       "11    4.448309\n",
       "10    4.424157\n",
       "19    4.032464\n",
       "20    3.112939\n",
       "5     2.847991\n",
       "21    2.580257\n",
       "22    2.400907\n",
       "4     2.072758\n",
       "23    1.968204\n",
       "0     1.831756\n",
       "1     1.710171\n",
       "2     1.563436\n",
       "3     1.323363\n",
       "Name: Start_Time, dtype: float64"
      ]
     },
     "execution_count": 20,
     "metadata": {},
     "output_type": "execute_result"
    }
   ],
   "source": [
    "# Accident time of day\n",
    "data.Start_Time.dt.hour.value_counts().sort_values(ascending=False)/len(data)*100"
   ]
  },
  {
   "cell_type": "code",
   "execution_count": 21,
   "metadata": {},
   "outputs": [
    {
     "data": {
      "text/plain": [
       "<matplotlib.axes._subplots.AxesSubplot at 0x1fa0d404d00>"
      ]
     },
     "execution_count": 21,
     "metadata": {},
     "output_type": "execute_result"
    },
    {
     "data": {
      "image/png": "[encoded data removed]",
      "text/plain": [
       "<Figure size 432x288 with 1 Axes>"
      ]
     },
     "metadata": {},
     "output_type": "display_data"
    }
   ],
   "source": [
    "# Count Plot Start time hour\n",
    "sns.countplot(data.Start_Time.dt.hour)"
   ]
  },
  {
   "cell_type": "code",
   "execution_count": 22,
   "metadata": {},
   "outputs": [
    {
     "data": {
      "text/plain": [
       "<matplotlib.axes._subplots.AxesSubplot at 0x1fa0d377e50>"
      ]
     },
     "execution_count": 22,
     "metadata": {},
     "output_type": "execute_result"
    },
    {
     "data": {
      "image/png": "[encoded data removed]",
      "text/plain": [
       "<Figure size 432x288 with 1 Axes>"
      ]
     },
     "metadata": {},
     "output_type": "display_data"
    }
   ],
   "source": [
    "# Distribution of Start time hour\n",
    "sns.distplot(data.Start_Time.dt.hour,hist=True)"
   ]
  },
  {
   "cell_type": "markdown",
   "metadata": {},
   "source": [
    " Top 5 Hours for accidents are Morning 7-8 AM And Again 3-5 PM"
   ]
  },
  {
   "cell_type": "code",
   "execution_count": 23,
   "metadata": {},
   "outputs": [
    {
     "data": {
      "text/plain": [
       "2    507292\n",
       "4    506750\n",
       "3    505811\n",
       "1    504308\n",
       "0    475111\n",
       "5    215791\n",
       "6    191547\n",
       "Name: Start_Time, dtype: int64"
      ]
     },
     "execution_count": 23,
     "metadata": {},
     "output_type": "execute_result"
    }
   ],
   "source": [
    "# Accident Week of day\n",
    "data.Start_Time.dt.weekday.value_counts()"
   ]
  },
  {
   "cell_type": "code",
   "execution_count": 24,
   "metadata": {},
   "outputs": [
    {
     "data": {
      "text/plain": [
       "2    17.453047\n",
       "4    17.434400\n",
       "3    17.402094\n",
       "1    17.350384\n",
       "0    16.345881\n",
       "5     7.424147\n",
       "6     6.590048\n",
       "Name: Start_Time, dtype: float64"
      ]
     },
     "execution_count": 24,
     "metadata": {},
     "output_type": "execute_result"
    }
   ],
   "source": [
    "# Accident Week of day %\n",
    "data.Start_Time.dt.weekday.value_counts()/len(data)*100 "
   ]
  },
  {
   "cell_type": "code",
   "execution_count": 25,
   "metadata": {},
   "outputs": [
    {
     "data": {
      "text/plain": [
       "<matplotlib.axes._subplots.AxesSubplot at 0x1fa0cfa3970>"
      ]
     },
     "execution_count": 25,
     "metadata": {},
     "output_type": "execute_result"
    },
    {
     "data": {
      "image/png": "[encoded data removed]",
      "text/plain": [
       "<Figure size 432x288 with 1 Axes>"
      ]
     },
     "metadata": {},
     "output_type": "display_data"
    }
   ],
   "source": [
    "# Bar chart Week of day\n",
    "sns.countplot(data.Start_Time.dt.weekday)"
   ]
  },
  {
   "cell_type": "code",
   "execution_count": 26,
   "metadata": {},
   "outputs": [
    {
     "data": {
      "text/plain": [
       "<matplotlib.axes._subplots.AxesSubplot at 0x1fa0d3b35b0>"
      ]
     },
     "execution_count": 26,
     "metadata": {},
     "output_type": "execute_result"
    },
    {
     "data": {
      "image/png": "[encoded data removed]",
      "text/plain": [
       "<Figure size 432x288 with 1 Axes>"
      ]
     },
     "metadata": {},
     "output_type": "display_data"
    }
   ],
   "source": [
    "# distribution chart Week of day\n",
    "sns.distplot(data.Start_Time.dt.weekday,bins=7,norm_hist=True,kde=False)"
   ]
  },
  {
   "cell_type": "markdown",
   "metadata": {},
   "source": [
    "High number of accident on weekdays. Monday still number is slightly low compartively to other weekday"
   ]
  },
  {
   "cell_type": "markdown",
   "metadata": {},
   "source": [
    "#### 3. Start Lat & Start Lng"
   ]
  },
  {
   "cell_type": "code",
   "execution_count": 27,
   "metadata": {},
   "outputs": [
    {
     "data": {
      "text/plain": [
       "<matplotlib.axes._subplots.AxesSubplot at 0x1fa0d014280>"
      ]
     },
     "execution_count": 27,
     "metadata": {},
     "output_type": "execute_result"
    },
    {
     "data": {
      "image/png": "[encoded data removed]",
      "text/plain": [
       "<Figure size 432x288 with 1 Axes>"
      ]
     },
     "metadata": {},
     "output_type": "display_data"
    }
   ],
   "source": [
    "sns.scatterplot(x=data.Start_Lng,\n",
    "               y= data.Start_Lat)"
   ]
  },
  {
   "cell_type": "markdown",
   "metadata": {},
   "source": [
    "#### 4. Distance(mi)"
   ]
  },
  {
   "cell_type": "code",
   "execution_count": 28,
   "metadata": {},
   "outputs": [
    {
     "data": {
      "text/plain": [
       "<matplotlib.axes._subplots.AxesSubplot at 0x1fa0d0583d0>"
      ]
     },
     "execution_count": 28,
     "metadata": {},
     "output_type": "execute_result"
    },
    {
     "data": {
      "image/png": "[encoded data removed]",
      "text/plain": [
       "<Figure size 432x288 with 1 Axes>"
      ]
     },
     "metadata": {},
     "output_type": "display_data"
    }
   ],
   "source": [
    "## distribution of distance \n",
    "sns.boxplot(y='Distance(mi)',data=data)"
   ]
  },
  {
   "cell_type": "code",
   "execution_count": 29,
   "metadata": {},
   "outputs": [
    {
     "data": {
      "text/plain": [
       "<matplotlib.axes._subplots.AxesSubplot at 0x1fa0d0bf220>"
      ]
     },
     "execution_count": 29,
     "metadata": {},
     "output_type": "execute_result"
    },
    {
     "data": {
      "image/png": "[encoded data removed]",
      "text/plain": [
       "<Figure size 432x288 with 1 Axes>"
      ]
     },
     "metadata": {},
     "output_type": "display_data"
    }
   ],
   "source": [
    "sns.distplot(data['Distance(mi)'],hist=True)"
   ]
  },
  {
   "cell_type": "markdown",
   "metadata": {},
   "source": [
    "Major accident are point accidents"
   ]
  },
  {
   "cell_type": "code",
   "execution_count": 30,
   "metadata": {},
   "outputs": [
    {
     "data": {
      "text/plain": [
       "1.0      1066531\n",
       "2.0       142737\n",
       "3.0        54228\n",
       "4.0        26085\n",
       "5.0        14563\n",
       "          ...   \n",
       "101.0          1\n",
       "104.0          1\n",
       "55.0           1\n",
       "158.0          1\n",
       "159.0          1\n",
       "Name: Distance(mi), Length: 122, dtype: int64"
      ]
     },
     "execution_count": 30,
     "metadata": {},
     "output_type": "execute_result"
    }
   ],
   "source": [
    "## distinace distribution after removing point accidents ceil the distance value\n",
    "\n",
    "data[data['Distance(mi)'] != 0][\"Distance(mi)\"].apply(np.ceil).value_counts()"
   ]
  },
  {
   "cell_type": "code",
   "execution_count": 31,
   "metadata": {},
   "outputs": [
    {
     "data": {
      "text/plain": [
       "1.0      79.630017\n",
       "2.0      10.657121\n",
       "3.0       4.048805\n",
       "4.0       1.947575\n",
       "5.0       1.087312\n",
       "           ...    \n",
       "101.0     0.000075\n",
       "104.0     0.000075\n",
       "55.0      0.000075\n",
       "158.0     0.000075\n",
       "159.0     0.000075\n",
       "Name: Distance(mi), Length: 122, dtype: float64"
      ]
     },
     "execution_count": 31,
     "metadata": {},
     "output_type": "execute_result"
    }
   ],
   "source": [
    "# distance distribution % after removing point accidents ceil the distance value\n",
    "data[data['Distance(mi)'] != 0][\"Distance(mi)\"].apply(np.ceil).value_counts()/len(data[data['Distance(mi)'] != 0])*100"
   ]
  },
  {
   "cell_type": "markdown",
   "metadata": {},
   "source": [
    "79% of accident effect road within 1 mile"
   ]
  },
  {
   "cell_type": "code",
   "execution_count": 32,
   "metadata": {},
   "outputs": [
    {
     "data": {
      "text/plain": [
       "<matplotlib.axes._subplots.AxesSubplot at 0x1fa0d18a160>"
      ]
     },
     "execution_count": 32,
     "metadata": {},
     "output_type": "execute_result"
    },
    {
     "data": {
      "image/png": "[encoded data removed]",
      "text/plain": [
       "<Figure size 432x288 with 1 Axes>"
      ]
     },
     "metadata": {},
     "output_type": "display_data"
    }
   ],
   "source": [
    "# box plot distance distribution  after removing point accidents ceil the distance value\n",
    "sns.boxplot(data[data['Distance(mi)'] != 0][\"Distance(mi)\"].apply(np.ceil))"
   ]
  },
  {
   "cell_type": "markdown",
   "metadata": {},
   "source": [
    "### Description"
   ]
  },
  {
   "cell_type": "code",
   "execution_count": 33,
   "metadata": {},
   "outputs": [
    {
     "data": {
      "image/png": "[encoded data removed]",
      "text/plain": [
       "<Figure size 432x288 with 1 Axes>"
      ]
     },
     "metadata": {},
     "output_type": "display_data"
    }
   ],
   "source": [
    "plt.imshow(wdc(background_color=\"black\",\n",
    "               max_font_size=40,\n",
    "               scale=3,\n",
    "               random_state=1,\n",
    "               max_words=200).generate(str(data['Description'])))\n",
    "plt.axis(\"off\")\n",
    "plt.show()\n"
   ]
  },
  {
   "cell_type": "markdown",
   "metadata": {},
   "source": [
    "#### City"
   ]
  },
  {
   "cell_type": "code",
   "execution_count": 34,
   "metadata": {},
   "outputs": [
    {
     "data": {
      "text/plain": [
       "array(['Greenville', 'Charlotte', 'Los Gatos', ..., 'Allons', 'Adolphus',\n",
       "       'Gowanda'], dtype=object)"
      ]
     },
     "execution_count": 34,
     "metadata": {},
     "output_type": "execute_result"
    }
   ],
   "source": [
    "# unique City\n",
    "data.City.unique()"
   ]
  },
  {
   "cell_type": "code",
   "execution_count": 35,
   "metadata": {},
   "outputs": [
    {
     "data": {
      "text/plain": [
       "11790"
      ]
     },
     "execution_count": 35,
     "metadata": {},
     "output_type": "execute_result"
    }
   ],
   "source": [
    "# Total city count \n",
    "len(data.City.unique())"
   ]
  },
  {
   "cell_type": "code",
   "execution_count": 36,
   "metadata": {},
   "outputs": [
    {
     "data": {
      "text/plain": [
       "Los Angeles        68411\n",
       "Houston            68265\n",
       "Charlotte          56176\n",
       "Miami              49965\n",
       "Dallas             48525\n",
       "                   ...  \n",
       "Kountze                1\n",
       "Prairie Village        1\n",
       "Gregory                1\n",
       "Swifton                1\n",
       "Belle Rose             1\n",
       "Name: City, Length: 11789, dtype: int64"
      ]
     },
     "execution_count": 36,
     "metadata": {},
     "output_type": "execute_result"
    }
   ],
   "source": [
    "# Cities Count\n",
    "data.City.value_counts()"
   ]
  },
  {
   "cell_type": "code",
   "execution_count": 37,
   "metadata": {},
   "outputs": [
    {
     "data": {
      "text/plain": [
       "Los Angeles      68411\n",
       "Houston          68265\n",
       "Charlotte        56176\n",
       "Miami            49965\n",
       "Dallas           48525\n",
       "Austin           38808\n",
       "Raleigh          31355\n",
       "Atlanta          29244\n",
       "Sacramento       28984\n",
       "Orlando          28092\n",
       "Nashville        25277\n",
       "Baton Rouge      25080\n",
       "Minneapolis      22469\n",
       "San Diego        22329\n",
       "Phoenix          21370\n",
       "Oklahoma City    21292\n",
       "Portland         19432\n",
       "Richmond         18343\n",
       "Seattle          17384\n",
       "Saint Paul       17266\n",
       "Name: City, dtype: int64"
      ]
     },
     "execution_count": 37,
     "metadata": {},
     "output_type": "execute_result"
    }
   ],
   "source": [
    "# Top 20 cities \n",
    "data.City.value_counts()[:20]"
   ]
  },
  {
   "cell_type": "code",
   "execution_count": 38,
   "metadata": {},
   "outputs": [
    {
     "data": {
      "text/plain": [
       "Los Angeles      2.353635\n",
       "Houston          2.348612\n",
       "Charlotte        1.932698\n",
       "Miami            1.719013\n",
       "Dallas           1.669471\n",
       "Austin           1.335164\n",
       "Raleigh          1.078748\n",
       "Atlanta          1.006121\n",
       "Sacramento       0.997175\n",
       "Orlando          0.966487\n",
       "Nashville        0.869639\n",
       "Baton Rouge      0.862861\n",
       "Minneapolis      0.773031\n",
       "San Diego        0.768215\n",
       "Phoenix          0.735221\n",
       "Oklahoma City    0.732537\n",
       "Portland         0.668545\n",
       "Richmond         0.631079\n",
       "Seattle          0.598085\n",
       "Saint Paul       0.594025\n",
       "Name: City, dtype: float64"
      ]
     },
     "execution_count": 38,
     "metadata": {},
     "output_type": "execute_result"
    }
   ],
   "source": [
    "# Top 20 cities % distribution\n",
    "data.City.value_counts()[:20]/len(data) *100"
   ]
  },
  {
   "cell_type": "code",
   "execution_count": 39,
   "metadata": {},
   "outputs": [
    {
     "data": {
      "text/plain": [
       "<matplotlib.axes._subplots.AxesSubplot at 0x1fa0d243910>"
      ]
     },
     "execution_count": 39,
     "metadata": {},
     "output_type": "execute_result"
    },
    {
     "data": {
      "image/png": "[encoded data removed]",
      "text/plain": [
       "<Figure size 432x288 with 1 Axes>"
      ]
     },
     "metadata": {},
     "output_type": "display_data"
    }
   ],
   "source": [
    "# Top 20 cities bar chart\n",
    "data.City.value_counts()[:20].plot(kind=\"barh\")"
   ]
  },
  {
   "cell_type": "markdown",
   "metadata": {},
   "source": [
    "Houston & Los Angeles has high accident"
   ]
  },
  {
   "cell_type": "code",
   "execution_count": 40,
   "metadata": {},
   "outputs": [
    {
     "data": {
      "text/plain": [
       "<matplotlib.axes._subplots.AxesSubplot at 0x1fa0d2d74f0>"
      ]
     },
     "execution_count": 40,
     "metadata": {},
     "output_type": "execute_result"
    },
    {
     "data": {
      "image/png": "[encoded data removed]",
      "text/plain": [
       "<Figure size 432x288 with 1 Axes>"
      ]
     },
     "metadata": {},
     "output_type": "display_data"
    }
   ],
   "source": [
    "#Cities distribution \n",
    "sns.distplot(data.City.value_counts())"
   ]
  },
  {
   "cell_type": "code",
   "execution_count": 41,
   "metadata": {},
   "outputs": [],
   "source": [
    "high_accident_city =data.City.value_counts()[data.City.value_counts() >=1000]\n",
    "low_accident_city =data.City.value_counts()[data.City.value_counts() <1000]"
   ]
  },
  {
   "cell_type": "code",
   "execution_count": 42,
   "metadata": {},
   "outputs": [
    {
     "data": {
      "text/plain": [
       "<matplotlib.axes._subplots.AxesSubplot at 0x1faa9bc9fa0>"
      ]
     },
     "execution_count": 42,
     "metadata": {},
     "output_type": "execute_result"
    },
    {
     "data": {
      "image/png": "[encoded data removed]",
      "text/plain": [
       "<Figure size 432x288 with 1 Axes>"
      ]
     },
     "metadata": {},
     "output_type": "display_data"
    }
   ],
   "source": [
    "sns.distplot(high_accident_city)"
   ]
  },
  {
   "cell_type": "code",
   "execution_count": 43,
   "metadata": {},
   "outputs": [
    {
     "data": {
      "text/plain": [
       "4.351145038167939"
      ]
     },
     "execution_count": 43,
     "metadata": {},
     "output_type": "execute_result"
    }
   ],
   "source": [
    "len(high_accident_city)/len(data.City.unique())*100"
   ]
  },
  {
   "cell_type": "markdown",
   "metadata": {},
   "source": [
    "Approx 4 percentage fall in high accident bracket with number >= 1000 (we have not looked into population size)"
   ]
  },
  {
   "cell_type": "code",
   "execution_count": 44,
   "metadata": {},
   "outputs": [
    {
     "data": {
      "text/plain": [
       "95.64037319762511"
      ]
     },
     "execution_count": 44,
     "metadata": {},
     "output_type": "execute_result"
    }
   ],
   "source": [
    "len(low_accident_city)/len(data.City.unique())*100"
   ]
  },
  {
   "cell_type": "markdown",
   "metadata": {},
   "source": [
    "#### Temperature"
   ]
  },
  {
   "cell_type": "code",
   "execution_count": 45,
   "metadata": {},
   "outputs": [
    {
     "data": {
      "text/plain": [
       "<matplotlib.axes._subplots.AxesSubplot at 0x1faaa6b0190>"
      ]
     },
     "execution_count": 45,
     "metadata": {},
     "output_type": "execute_result"
    },
    {
     "data": {
      "image/png": "[encoded data removed]",
      "text/plain": [
       "<Figure size 432x288 with 1 Axes>"
      ]
     },
     "metadata": {},
     "output_type": "display_data"
    }
   ],
   "source": [
    "sns.distplot(data['Temperature(F)'],hist=True) "
   ]
  },
  {
   "cell_type": "code",
   "execution_count": 46,
   "metadata": {},
   "outputs": [
    {
     "data": {
      "text/plain": [
       "60.988729711281614"
      ]
     },
     "execution_count": 46,
     "metadata": {},
     "output_type": "execute_result"
    }
   ],
   "source": [
    "# Temperature  mean() \n",
    "data['Temperature(F)'].mean()\n",
    "\n"
   ]
  },
  {
   "cell_type": "code",
   "execution_count": 47,
   "metadata": {},
   "outputs": [
    {
     "data": {
      "text/plain": [
       "63.0"
      ]
     },
     "execution_count": 47,
     "metadata": {},
     "output_type": "execute_result"
    }
   ],
   "source": [
    "# Temperature  mean() \n",
    "data['Temperature(F)'].median()"
   ]
  },
  {
   "cell_type": "markdown",
   "metadata": {},
   "source": [
    "60.98 F mean Temperature & 63.0 F median Temperature "
   ]
  },
  {
   "cell_type": "markdown",
   "metadata": {},
   "source": [
    "#### Visibility"
   ]
  },
  {
   "cell_type": "code",
   "execution_count": 48,
   "metadata": {},
   "outputs": [
    {
     "data": {
      "text/plain": [
       "10.0     77.765060\n",
       "7.0       3.012650\n",
       "9.0       2.589615\n",
       "8.0       2.067357\n",
       "5.0       1.948868\n",
       "           ...    \n",
       "3.2       0.000034\n",
       "19.0      0.000034\n",
       "54.0      0.000034\n",
       "101.0     0.000034\n",
       "130.0     0.000034\n",
       "Name: Visibility(mi), Length: 81, dtype: float64"
      ]
     },
     "execution_count": 48,
     "metadata": {},
     "output_type": "execute_result"
    }
   ],
   "source": [
    "data['Visibility(mi)'].value_counts()/len(data)*100"
   ]
  },
  {
   "cell_type": "code",
   "execution_count": 49,
   "metadata": {},
   "outputs": [
    {
     "name": "stderr",
     "output_type": "stream",
     "text": [
      "C:\\ProgramData\\Anaconda3\\lib\\site-packages\\seaborn\\distributions.py:369: UserWarning: Default bandwidth for data is 0; skipping density estimation.\n",
      "  warnings.warn(msg, UserWarning)\n"
     ]
    },
    {
     "data": {
      "text/plain": [
       "<matplotlib.axes._subplots.AxesSubplot at 0x1faaa7844f0>"
      ]
     },
     "execution_count": 49,
     "metadata": {},
     "output_type": "execute_result"
    },
    {
     "data": {
      "image/png": "[encoded data removed]",
      "text/plain": [
       "<Figure size 432x288 with 1 Axes>"
      ]
     },
     "metadata": {},
     "output_type": "display_data"
    }
   ],
   "source": [
    "sns.distplot(data[data['Visibility(mi)'] >=5 ]['Visibility(mi)'],hist=True,kde=True,bins=10)"
   ]
  },
  {
   "cell_type": "code",
   "execution_count": 50,
   "metadata": {},
   "outputs": [
    {
     "data": {
      "text/plain": [
       "10.0    77.765060\n",
       "7.0      3.012650\n",
       "9.0      2.589615\n",
       "8.0      2.067357\n",
       "5.0      1.948868\n",
       "6.0      1.758956\n",
       "4.0      1.575478\n",
       "3.0      1.529514\n",
       "2.0      1.383227\n",
       "1.0      1.004985\n",
       "Name: Visibility(mi), dtype: float64"
      ]
     },
     "execution_count": 50,
     "metadata": {},
     "output_type": "execute_result"
    }
   ],
   "source": [
    "#Top 10 visibility(mi) range cause for accident\n",
    "data['Visibility(mi)'].value_counts().sort_values(ascending=False).head(10)/len(data)*100"
   ]
  },
  {
   "cell_type": "markdown",
   "metadata": {},
   "source": [
    "#### Bumps"
   ]
  },
  {
   "cell_type": "code",
   "execution_count": 51,
   "metadata": {},
   "outputs": [
    {
     "data": {
      "text/plain": [
       "False    99.98008\n",
       "True      0.01992\n",
       "Name: Bump, dtype: float64"
      ]
     },
     "execution_count": 51,
     "metadata": {},
     "output_type": "execute_result"
    }
   ],
   "source": [
    "# Percentage if there are any speed bump or not\n",
    "data.Bump.value_counts()/len(data)*100"
   ]
  },
  {
   "cell_type": "code",
   "execution_count": 52,
   "metadata": {},
   "outputs": [
    {
     "data": {
      "text/plain": [
       "<matplotlib.axes._subplots.AxesSubplot at 0x1faab6906a0>"
      ]
     },
     "execution_count": 52,
     "metadata": {},
     "output_type": "execute_result"
    },
    {
     "data": {
      "image/png": "[encoded data removed]",
      "text/plain": [
       "<Figure size 432x288 with 1 Axes>"
      ]
     },
     "metadata": {},
     "output_type": "display_data"
    }
   ],
   "source": [
    "# Bar chart Speed Bump\n",
    "sns.countplot(data.Bump)"
   ]
  },
  {
   "cell_type": "markdown",
   "metadata": {},
   "source": [
    "### Crossing"
   ]
  },
  {
   "cell_type": "code",
   "execution_count": 53,
   "metadata": {},
   "outputs": [
    {
     "data": {
      "text/plain": [
       "False    92.467892\n",
       "True      7.532108\n",
       "Name: Crossing, dtype: float64"
      ]
     },
     "execution_count": 53,
     "metadata": {},
     "output_type": "execute_result"
    }
   ],
   "source": [
    "# Percentage if there are any speed Crossing or not\n",
    "data.Crossing.value_counts()/len(data)*100\n"
   ]
  },
  {
   "cell_type": "markdown",
   "metadata": {},
   "source": [
    "### GiveWay"
   ]
  },
  {
   "cell_type": "code",
   "execution_count": 54,
   "metadata": {},
   "outputs": [
    {
     "data": {
      "text/plain": [
       "False    99.717196\n",
       "True      0.282804\n",
       "Name: Give_Way, dtype: float64"
      ]
     },
     "execution_count": 54,
     "metadata": {},
     "output_type": "execute_result"
    }
   ],
   "source": [
    "data.Give_Way.value_counts()/len(data)*100"
   ]
  },
  {
   "cell_type": "markdown",
   "metadata": {},
   "source": [
    "#### Task  : Ask Question "
   ]
  },
  {
   "cell_type": "markdown",
   "metadata": {},
   "source": [
    "1. Are there more accidents in warmer or cold area\n",
    "2. which states has higher no of accidents ? Accident per capita\n",
    "3. Among the top 100 cities inthe number of accident,which states do they belong to most frequently\n",
    "4. What time of the day are accidents most frequent in?\n",
    "5. Which days of the week have the most accidents?\n",
    "6. Which months have the most accidents?\n",
    "7. What is the trend of accidents year over year (decreasing/increasing?)\n",
    "8. When is accidents per unit of traffic the highest."
   ]
  },
  {
   "cell_type": "markdown",
   "metadata": {},
   "source": [
    "#### Task  :  Summaries your inference"
   ]
  },
  {
   "cell_type": "markdown",
   "metadata": {},
   "source": [
    "Insight \n",
    "1. Less than 5% cities have more than 1000 yearly accident\n",
    "2. Over 1200 cities report 1 accident\n",
    "3. the no of accident decreases exponcially \n",
    "4. High Percentage of accident between 7-8 am (Probably People are in hurry Or taffic is higher)\n",
    "5. High Percentage of accident between 3P-5pm"
   ]
  },
  {
   "cell_type": "code",
   "execution_count": null,
   "metadata": {},
   "outputs": [],
   "source": []
  },
  {
   "cell_type": "markdown",
   "metadata": {},
   "source": [
    "#### Task  : Document, Publish and Present"
   ]
  },
  {
   "cell_type": "code",
   "execution_count": null,
   "metadata": {},
   "outputs": [],
   "source": []
  },
  {
   "cell_type": "code",
   "execution_count": null,
   "metadata": {},
   "outputs": [],
   "source": []
  },
  {
   "cell_type": "code",
   "execution_count": null,
   "metadata": {},
   "outputs": [],
   "source": []
  }
 ],
 "metadata": {
  "kernelspec": {
   "display_name": "Python 3",
   "language": "python",
   "name": "python3"
  },
  "language_info": {
   "codemirror_mode": {
    "name": "ipython",
    "version": 3
   },
   "file_extension": ".py",
   "mimetype": "text/x-python",
   "name": "python",
   "nbconvert_exporter": "python",
   "pygments_lexer": "ipython3",
   "version": "3.8.3"
  }
 },
 "nbformat": 4,
 "nbformat_minor": 4
}
